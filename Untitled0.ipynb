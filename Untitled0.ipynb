{
  "nbformat": 4,
  "nbformat_minor": 0,
  "metadata": {
    "colab": {
      "name": "Untitled0.ipynb",
      "provenance": [],
      "authorship_tag": "ABX9TyP6rfGSFxPRInT55gnseXnZ"
    },
    "kernelspec": {
      "name": "python3",
      "display_name": "Python 3"
    }
  },
  "cells": [
    {
      "cell_type": "code",
      "metadata": {
        "id": "Yl7mL3UG6HuV",
        "colab_type": "code",
        "colab": {}
      },
      "source": [
        "lista = [] # Uma lista vazia ou sem elementos \n",
        "pontos_cardeais = [\"Norte\", \"Sul\", \"Leste\", \"Oeste\"] # Lista de Strings\n",
        "mundiais_brasil = [1958, 1962, 1970, 1994, 2002] # Lista de números\n",
        "abacaixi = [\"abacaxi\", 49.00, 12.40, 0.39, 0.1, 1.00] # Lista mista \n",
        "paises_capitais = [ [\"Brasil\", \"Brasilia\"], [\"Argentina\", \"Buenos Aires\"] ]\n"
      ],
      "execution_count": null,
      "outputs": []
    },
    {
      "cell_type": "code",
      "metadata": {
        "id": "9EorE-bV8x9M",
        "colab_type": "code",
        "colab": {
          "base_uri": "https://localhost:8080/",
          "height": 51
        },
        "outputId": "1f64d984-317b-41f7-e38f-7500f92a67a5"
      },
      "source": [
        "print(abacaixi[0])\n",
        "\n",
        "print(abacaixi[1])"
      ],
      "execution_count": null,
      "outputs": [
        {
          "output_type": "stream",
          "text": [
            "abacaxi\n",
            "49.0\n"
          ],
          "name": "stdout"
        }
      ]
    },
    {
      "cell_type": "code",
      "metadata": {
        "id": "3apQh4_l-QK4",
        "colab_type": "code",
        "colab": {
          "base_uri": "https://localhost:8080/",
          "height": 34
        },
        "outputId": "05c1c5e3-4e69-4dcd-d78b-4c7b3fad54ff"
      },
      "source": [
        "nome = \"Amauri\"\n",
        "print(nome[0])"
      ],
      "execution_count": null,
      "outputs": [
        {
          "output_type": "stream",
          "text": [
            "A\n"
          ],
          "name": "stdout"
        }
      ]
    },
    {
      "cell_type": "code",
      "metadata": {
        "id": "PJpp-I-r-kE3",
        "colab_type": "code",
        "colab": {
          "base_uri": "https://localhost:8080/",
          "height": 68
        },
        "outputId": "512382b3-f54c-4b99-b99a-342fd2b39b92"
      },
      "source": [
        "# Múltiplos índices, caso se apliquem\n",
        "print(paises_capitais)\n",
        "print(paises_capitais[0])\n",
        "print(paises_capitais[0][1])"
      ],
      "execution_count": null,
      "outputs": [
        {
          "output_type": "stream",
          "text": [
            "[['Brasil', 'Brasilia'], ['Argentina', 'Buenos Aires']]\n",
            "['Brasil', 'Brasilia']\n",
            "Brasilia\n"
          ],
          "name": "stdout"
        }
      ]
    },
    {
      "cell_type": "code",
      "metadata": {
        "id": "OB-hCSav--tf",
        "colab_type": "code",
        "colab": {
          "base_uri": "https://localhost:8080/",
          "height": 34
        },
        "outputId": "383543f9-a811-42f6-ec7f-2126cd20bef4"
      },
      "source": [
        "# Indexação nogativa\n",
        "carros = [\"Mercedes\", \"BMW\", \"Ferrari\", \"Volvo\"]\n",
        "print(carros [-1])"
      ],
      "execution_count": null,
      "outputs": [
        {
          "output_type": "stream",
          "text": [
            "Volvo\n"
          ],
          "name": "stdout"
        }
      ]
    },
    {
      "cell_type": "code",
      "metadata": {
        "id": "pqqR7KuO_QP4",
        "colab_type": "code",
        "colab": {
          "base_uri": "https://localhost:8080/",
          "height": 34
        },
        "outputId": "7107e7fc-1a8d-4404-ad60-3d3b8d2e2d11"
      },
      "source": [
        "# Tamanho da lista \n",
        "tamanho = len(carros)\n",
        "print(tamanho)"
      ],
      "execution_count": null,
      "outputs": [
        {
          "output_type": "stream",
          "text": [
            "4\n"
          ],
          "name": "stdout"
        }
      ]
    },
    {
      "cell_type": "code",
      "metadata": {
        "id": "1rxsLJyp_vxw",
        "colab_type": "code",
        "colab": {
          "base_uri": "https://localhost:8080/",
          "height": 51
        },
        "outputId": "50d72782-de1b-4c7e-f4f5-a46e7d08bacc"
      },
      "source": [
        "# Alterar valores dentro da lista\n",
        "print(carros)\n",
        "carros[0] = \"Fiat\"\n",
        "print(carros)"
      ],
      "execution_count": null,
      "outputs": [
        {
          "output_type": "stream",
          "text": [
            "['Mercedes', 'BMW', 'Ferrari', 'Volvo']\n",
            "['Fiat', 'BMW', 'Ferrari', 'Volvo']\n"
          ],
          "name": "stdout"
        }
      ]
    },
    {
      "cell_type": "code",
      "metadata": {
        "id": "QxzvScBXATmX",
        "colab_type": "code",
        "colab": {
          "base_uri": "https://localhost:8080/",
          "height": 34
        },
        "outputId": "4bca23bd-8d6d-4b6d-91d7-48ab33e6ee49"
      },
      "source": [
        "carros = [\"Mercedes\", \"BMW\", \"Ferrari\", \"Volvo\"]\n",
        "print(carros[0][1]) \n",
        "# Nesse caso, carros[0] é uma string\n",
        "# carros[0][1] é o segundo elemento dessa string\n",
        "# que será a letra \"e\", de M*e*rcedes"
      ],
      "execution_count": null,
      "outputs": [
        {
          "output_type": "stream",
          "text": [
            "e\n"
          ],
          "name": "stdout"
        }
      ]
    },
    {
      "cell_type": "code",
      "metadata": {
        "id": "tm1GVRvuCRG6",
        "colab_type": "code",
        "colab": {
          "base_uri": "https://localhost:8080/",
          "height": 85
        },
        "outputId": "5ce5a310-db8e-45d6-bc79-2b00f3e4e539"
      },
      "source": [
        "lista = []\n",
        "print(lista)\n",
        "lista.append(\"banana\") # adciona banana ao fim da linsta\n",
        "print(lista)\n",
        "lista.append(\"jabuticaba\") # Adiciona jabuticaba ao fim da lista\n",
        "print(lista)\n",
        "lista.append(\"carambola\")\n",
        "print(lista)"
      ],
      "execution_count": null,
      "outputs": [
        {
          "output_type": "stream",
          "text": [
            "[]\n",
            "['banana']\n",
            "['banana', 'jabuticaba']\n",
            "['banana', 'jabuticaba', 'carambola']\n"
          ],
          "name": "stdout"
        }
      ]
    },
    {
      "cell_type": "code",
      "metadata": {
        "id": "8jrSq5FnDO9O",
        "colab_type": "code",
        "colab": {
          "base_uri": "https://localhost:8080/",
          "height": 34
        },
        "outputId": "83fda7fa-c76b-45bf-d3f3-ff9833560b52"
      },
      "source": [
        "# Para inserir em uma posição especifica, use insert()\n",
        "lista.insert(0, \"maça\")\n",
        "print(lista)"
      ],
      "execution_count": null,
      "outputs": [
        {
          "output_type": "stream",
          "text": [
            "['maça', 'banana', 'jabuticaba', 'carambola']\n"
          ],
          "name": "stdout"
        }
      ]
    },
    {
      "cell_type": "code",
      "metadata": {
        "id": "dQ1rSYqVEasL",
        "colab_type": "code",
        "colab": {
          "base_uri": "https://localhost:8080/",
          "height": 51
        },
        "outputId": "db19199b-2db8-40ea-aabf-caa8f5536a19"
      },
      "source": [
        "# Busca em uma lista\n",
        "times_sp = [\"Corinthians\", \"Palmeira\", \"Santos\", \"São Paulo\"]\n",
        "\n",
        "time = input(\"Inofrme o time que você procura: \")\n",
        "if time in times_sp:\n",
        "  print(\"Esse time está na lista\")\n",
        "else: \n",
        "  print(\"Este time não está na lista.\")\n"
      ],
      "execution_count": null,
      "outputs": [
        {
          "output_type": "stream",
          "text": [
            "Inofrme o time que você procura: Palmeira\n",
            "Esse time está na lista\n"
          ],
          "name": "stdout"
        }
      ]
    },
    {
      "cell_type": "code",
      "metadata": {
        "id": "Z0S-dML5GIp-",
        "colab_type": "code",
        "colab": {
          "base_uri": "https://localhost:8080/",
          "height": 68
        },
        "outputId": "05ca8df1-8f22-4dc9-f82d-af9403ddaa1b"
      },
      "source": [
        "# Remove elementos:\n",
        "times_rj = [\"America\", \"Bangu\", \"Botafogo\", \"Fluminence\", \"Vasco\"]\n",
        "time = input(\"Informe o time a ser excluído: \")\n",
        "if time in times_rj:\n",
        "  times_rj.remove(time)\n",
        "else:\n",
        "  print(\"O time não fazia parte da lista\")\n",
        "print(times_rj)"
      ],
      "execution_count": null,
      "outputs": [
        {
          "output_type": "stream",
          "text": [
            "Informe o time a ser excluído: fla\n",
            "O time não fazia parte da lista\n",
            "['America', 'Bangu', 'Botafogo', 'Fluminence', 'Vasco']\n"
          ],
          "name": "stdout"
        }
      ]
    },
    {
      "cell_type": "code",
      "metadata": {
        "id": "xEN5aTIbHRVC",
        "colab_type": "code",
        "colab": {
          "base_uri": "https://localhost:8080/",
          "height": 34
        },
        "outputId": "47d04516-604e-4a18-fc69-303fbdcee58d"
      },
      "source": [
        "frutas = [\"banana\", \"maça\", \"uva\", \"morango\"]\n",
        "print( max(frutas) )"
      ],
      "execution_count": null,
      "outputs": [
        {
          "output_type": "stream",
          "text": [
            "uva\n"
          ],
          "name": "stdout"
        }
      ]
    },
    {
      "cell_type": "code",
      "metadata": {
        "id": "CMS1CdmPIO_Y",
        "colab_type": "code",
        "colab": {
          "base_uri": "https://localhost:8080/",
          "height": 51
        },
        "outputId": "5ea7bc2a-7dcf-414a-b30a-1c5aef3c0ceb"
      },
      "source": [
        "listas = [5, 4, 3, 2, 1]\n",
        "listas.sort()\n",
        "print(listas)\n",
        "listas.reverse()\n",
        "print(listas)"
      ],
      "execution_count": null,
      "outputs": [
        {
          "output_type": "stream",
          "text": [
            "[1, 2, 3, 4, 5]\n",
            "[5, 4, 3, 2, 1]\n"
          ],
          "name": "stdout"
        }
      ]
    }
  ]
}