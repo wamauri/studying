{
  "nbformat": 4,
  "nbformat_minor": 0,
  "metadata": {
    "colab": {
      "name": "Untitled0.ipynb",
      "provenance": [],
      "authorship_tag": "ABX9TyOt3kTKFQtyCH3LbpsN8iDs",
      "include_colab_link": true
    },
    "kernelspec": {
      "name": "python3",
      "display_name": "Python 3"
    }
  },
  "cells": [
    {
      "cell_type": "markdown",
      "metadata": {
        "id": "view-in-github",
        "colab_type": "text"
      },
      "source": [
        "<a href=\"https://colab.research.google.com/github/wamauri/studying/blob/master/exercicespy.ipynb\" target=\"_parent\"><img src=\"https://colab.research.google.com/assets/colab-badge.svg\" alt=\"Open In Colab\"/></a>"
      ]
    },
    {
      "cell_type": "code",
      "metadata": {
        "id": "jffVq0syvSHp",
        "colab_type": "code",
        "colab": {}
      },
      "source": [
        "#1 - Crie um algoritmo que receba, como entrada, o valor de três notas de um aluno \n",
        "#com valor entre 0 e 10, e, em seguida, informe a média entre elas. \n",
        "\n",
        "# Coleta de nota dos três alunos\n",
        "n1 = float (input('Informe a nota do primeiro aluno: '))\n",
        "n2 = float (input('Informe a nota do segundo aluno: '))\n",
        "n3 = float (input('Informe a nota do terceiro aluno: '))\n",
        "# Soma da nota dos três alunos\n",
        "m1 = float (n1 + n2 + n3)\n",
        "# Calculo da média de nota dos alunos \n",
        "print(f'A media entre os alunos é: {round (m1 / 3, 1)}')"
      ],
      "execution_count": null,
      "outputs": []
    }
  ]
}