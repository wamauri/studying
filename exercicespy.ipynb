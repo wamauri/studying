{
  "nbformat": 4,
  "nbformat_minor": 0,
  "metadata": {
    "colab": {
      "name": "Untitled0.ipynb",
      "provenance": [],
      "authorship_tag": "ABX9TyMxcVAhYlbo0uEB6t+hFGdO",
      "include_colab_link": true
    },
    "kernelspec": {
      "name": "python3",
      "display_name": "Python 3"
    }
  },
  "cells": [
    {
      "cell_type": "markdown",
      "metadata": {
        "id": "view-in-github",
        "colab_type": "text"
      },
      "source": [
        "<a href=\"https://colab.research.google.com/github/wamauri/studying/blob/master/exercicespy.ipynb\" target=\"_parent\"><img src=\"https://colab.research.google.com/assets/colab-badge.svg\" alt=\"Open In Colab\"/></a>"
      ]
    },
    {
      "cell_type": "code",
      "metadata": {
        "id": "jffVq0syvSHp",
        "colab_type": "code",
        "colab": {
          "base_uri": "https://localhost:8080/",
          "height": 85
        },
        "outputId": "216733f2-945e-4b04-8409-80b414693105"
      },
      "source": [
        "# 1 - Crie um algoritmo que receba, como entrada, o valor de três notas de um \n",
        "# aluno com valor entre 0 e 10, e, em seguida, informe a média entre elas. \n",
        "\n",
        "# Coleta de nota dos três alunos\n",
        "n1 = float (input('Informe a nota do primeiro aluno: '))\n",
        "n2 = float (input('Informe a nota do segundo aluno: '))\n",
        "n3 = float (input('Informe a nota do terceiro aluno: '))\n",
        "# Soma da nota dos três alunos\n",
        "m1 = float (n1 + n2 + n3)\n",
        "# Calculo da média de nota dos alunos \n",
        "print(f'A media entre os alunos é: {round (m1 / 3, 1)}')"
      ],
      "execution_count": 1,
      "outputs": [
        {
          "output_type": "stream",
          "text": [
            "Informe a nota do primeiro aluno: 6.7\n",
            "Informe a nota do segundo aluno: 8.5\n",
            "Informe a nota do terceiro aluno: 7.4\n",
            "A media entre os alunos é: 7.5\n"
          ],
          "name": "stdout"
        }
      ]
    },
    {
      "cell_type": "code",
      "metadata": {
        "id": "B04ONtxF3IJm",
        "colab_type": "code",
        "colab": {
          "base_uri": "https://localhost:8080/",
          "height": 85
        },
        "outputId": "1a8754d9-3f6a-4086-fbd7-cb547b283726"
      },
      "source": [
        "# Recrie o algoritmo de cálculo de média das notas, mas, desta vez, calcule a \n",
        "# média ponderada, sabendo que a primeira nota possui peso 1, a segunda nota \n",
        "# possui peso 2 e a terceira nota possui peso 3.\n",
        "#   a. Sabendo que a média MP é calculada como\n",
        "#\n",
        "# MP = \t\tN1 * P1 + N2 * P2 + N3 * P3\n",
        "#\t       _____________________________\n",
        "#\t\n",
        "#\t\t\t          (P1 + P2 + P3)\n",
        "#\n",
        "#   Onde N são as notas e, P, de seus respectivos pesos.\n",
        "\n",
        "n1 = float (input('Isira a primeira nota: '))\n",
        "n2 = float (input('Insira a segunda nota: '))\n",
        "n3 = float (input('Insira a terceira nota: '))\n",
        "\n",
        "p1 = 1\n",
        "p2 = 2\n",
        "p3 = 3\n",
        "\n",
        "print (f\"A média ponderada é: {((n1 * p1) + (n2 * p2) + (n3 * p3)) / (p1 + p2 + p3)} \")"
      ],
      "execution_count": 16,
      "outputs": [
        {
          "output_type": "stream",
          "text": [
            "Isira a primeira nota: 7\n",
            "Insira a segunda nota: 6\n",
            "Insira a terceira nota: 7.5\n",
            "A média ponderada é: 6.916666666666667 \n"
          ],
          "name": "stdout"
        }
      ]
    }
  ]
}