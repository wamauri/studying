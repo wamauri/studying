{
  "nbformat": 4,
  "nbformat_minor": 0,
  "metadata": {
    "colab": {
      "name": "Untitled0.ipynb",
      "provenance": [],
      "authorship_tag": "ABX9TyPOJqPtyt4VbTSaRDa+duev"
    },
    "kernelspec": {
      "name": "python3",
      "display_name": "Python 3"
    }
  },
  "cells": [
    {
      "cell_type": "code",
      "metadata": {
        "id": "jffVq0syvSHp",
        "colab_type": "code",
        "colab": {
          "base_uri": "https://localhost:8080/",
          "height": 85
        },
        "outputId": "216733f2-945e-4b04-8409-80b414693105"
      },
      "source": [
        "# 1 - Create an algorithm that receives as input the value of three grands from\n",
        "# a student with a value between 0 and 10 and then report the average between them.\n",
        "\n",
        "# Coleta de nota dos três alunos\n",
        "n1 = float (input('Informe a nota do primeiro aluno: '))\n",
        "n2 = float (input('Informe a nota do segundo aluno: '))\n",
        "n3 = float (input('Informe a nota do terceiro aluno: '))\n",
        "# Soma da nota dos três alunos\n",
        "m1 = float (n1 + n2 + n3)\n",
        "# Calculo da média de nota dos alunos \n",
        "print(f'A media entre os alunos é: {round (m1 / 3, 1)}')"
      ],
      "execution_count": null,
      "outputs": [
        {
          "output_type": "stream",
          "text": [
            "Informe a nota do primeiro aluno: 6.7\n",
            "Informe a nota do segundo aluno: 8.5\n",
            "Informe a nota do terceiro aluno: 7.4\n",
            "A media entre os alunos é: 7.5\n"
          ],
          "name": "stdout"
        }
      ]
    },
    {
      "cell_type": "code",
      "metadata": {
        "id": "B04ONtxF3IJm",
        "colab_type": "code",
        "colab": {
          "base_uri": "https://localhost:8080/",
          "height": 85
        },
        "outputId": "65db74f9-9d51-4eaf-e24c-187f0d4d811e"
      },
      "source": [
        "# Recrie o algoritmo de cálculo de média das notas, mas, desta vez, calcule a \n",
        "# média ponderada, sabendo que a primeira nota possui peso 1, a segunda nota \n",
        "# possui peso 2 e a terceira nota possui peso 3.\n",
        "#   a. Sabendo que a média MP é calculada como\n",
        "#\n",
        "# MP = \t\tN1 * P1 + N2 * P2 + N3 * P3\n",
        "#\t       _____________________________\n",
        "#\t\n",
        "#\t\t\t          (P1 + P2 + P3)\n",
        "#\n",
        "#   Onde N são as notas e, P, de seus respectivos pesos.\n",
        "\n",
        "n1 = float (input('Isira a primeira nota: '))\n",
        "n2 = float (input('Insira a segunda nota: '))\n",
        "n3 = float (input('Insira a terceira nota: '))\n",
        "\n",
        "p1 = float (1)\n",
        "p2 = float (2)\n",
        "p3 = float (3)\n",
        "\n",
        "pond = float ((n1 * p1 + n2 * p2 + n3 * p3) / (p1 + p2 + p3))\n",
        "\n",
        "print (f\"A média ponderada é: {round(pond, 1)} \")"
      ],
      "execution_count": null,
      "outputs": [
        {
          "output_type": "stream",
          "text": [
            "Isira a primeira nota: 8\n",
            "Insira a segunda nota: 6\n",
            "Insira a terceira nota: 7.5\n",
            "A média ponderada é: 7.1 \n"
          ],
          "name": "stdout"
        }
      ]
    },
    {
      "cell_type": "code",
      "metadata": {
        "id": "qF-a3FzeKP_6",
        "colab_type": "code",
        "colab": {
          "base_uri": "https://localhost:8080/",
          "height": 68
        },
        "outputId": "5a6140a7-5208-4377-c277-488abac3e556"
      },
      "source": [
        "# Crie um algoritmo que recebe o valor da altura e do peso de uma pessoa e retorna seu IMC. \n",
        "# IMC = peso / altura² \n",
        "\n",
        "peso = float (input('Insira seu peso: '))\n",
        "altura = float (input('Insira sua altura: '))\n",
        "imc = float (round(peso / altura ** 2, 2))\n",
        "\n",
        "print (f'Seu IMC é:  {imc}') "
      ],
      "execution_count": null,
      "outputs": [
        {
          "output_type": "stream",
          "text": [
            "Insira seu peso: 66\n",
            "Insira sua altura: 1.69\n",
            "Seu IMC é:  23.11\n"
          ],
          "name": "stdout"
        }
      ]
    },
    {
      "cell_type": "code",
      "metadata": {
        "id": "8WjmHTOMXuC1",
        "colab_type": "code",
        "colab": {
          "base_uri": "https://localhost:8080/",
          "height": 51
        },
        "outputId": "65cb5f53-763d-4419-c4cf-76567fa71415"
      },
      "source": [
        "# Crie um algoritmo que recebe um valor de temperatura em Celsius e o converte para Fahrenheit. \n",
        "#   F = (C * 9/5)+32\n",
        "\n",
        "celsius = int (input(\"Informe a temperatur da sua cidade atualmente: \"))\n",
        "fahrenheit = int (celsius * (9 / 5) + 32)\n",
        "\n",
        "print (f'A temperatura atual em Fahrenheit é: {fahrenheit}°')"
      ],
      "execution_count": null,
      "outputs": [
        {
          "output_type": "stream",
          "text": [
            "Informe a temperatur da sua cidade atualmente: 14\n",
            "A temperatura atual em Fahrenheit é: 57°\n"
          ],
          "name": "stdout"
        }
      ]
    },
    {
      "cell_type": "code",
      "metadata": {
        "id": "jRW-qabz_2hv",
        "colab_type": "code",
        "colab": {
          "base_uri": "https://localhost:8080/",
          "height": 51
        },
        "outputId": "b67ff6bf-fac3-4bd9-ec8b-32c03d21d14a"
      },
      "source": [
        "# Um motorista deseja abastecer um valor X em reais, de combustível. Escreva um \n",
        "# algoritmo para ler o preço do litro do combustível e o valor que o \n",
        "# motorista deseja abastecer. Em seguida, informe quantos litros foram abastecidos.\n",
        "\n",
        "# Preço do combustivel na cidade de São Paulo.\n",
        "preco_gasolina = float (4.25)\n",
        "\n",
        "# Pergunta quanto o motorista deseja abastecer.\n",
        "valor_abastecido = float (input(\"Informe quanto deseja abastecer de combustível:\"))\n",
        "\n",
        "# Calcula quantos litros foram abastecidos.\n",
        "litros = (valor_abastecido / preco_gasolina)\n",
        "\n",
        "# Formatação dos valores em BRL.\n",
        "valor_abastecido_formatado = f\"{valor_abastecido:.2f}\".replace(\".\",\",\")\n",
        "litros_formatado = f\"{litros:.1f}\".replace(\".\",\",\")\n",
        "\n",
        "# Imprime quantos litros foram abastecidos.\n",
        "print(f\"Você pagou: R$ {valor_abastecido_formatado} e abasteceu: {litros_formatado}L\")\n"
      ],
      "execution_count": null,
      "outputs": [
        {
          "output_type": "stream",
          "text": [
            "Informe quanto deseja abastecer de combustível:160\n",
            "Você pagou: R$ 160,00 e abasteceu: 37,6L\n"
          ],
          "name": "stdout"
        }
      ]
    },
    {
      "cell_type": "code",
      "metadata": {
        "id": "LA5esgrYuAhS",
        "colab_type": "code",
        "colab": {
          "base_uri": "https://localhost:8080/",
          "height": 68
        },
        "outputId": "edd2666c-7471-496e-a1b0-e8308ec4b269"
      },
      "source": [
        "# Crie um algoritmo para calcular a média de duas notas digitadas pelo usuário, \n",
        "# sendo que a segunda nota tem peso dois.\n",
        "\n",
        "nota1 = float (input(\"Informe a primeira nota: \"))\n",
        "nota2 = float (input(\"Informe a segunda nota: \"))\n",
        "\n",
        "peso = (2)\n",
        "media = ((nota1 + (nota2 * peso)) / (peso)) \n",
        "\n",
        "print(f\"A média das duas notas é: {media}\")"
      ],
      "execution_count": 2,
      "outputs": [
        {
          "output_type": "stream",
          "text": [
            "Informe a primeira nota: 7.5\n",
            "Informe a segunda nota: 6.8\n",
            "A média das duas notas é: 10.55\n"
          ],
          "name": "stdout"
        }
      ]
    },
    {
      "cell_type": "code",
      "metadata": {
        "id": "4ioHFoRYHBzl",
        "colab_type": "code",
        "colab": {
          "base_uri": "https://localhost:8080/",
          "height": 51
        },
        "outputId": "60382578-d50a-4bce-8517-666cc747a4c6"
      },
      "source": [
        "# Crie um algoritmo que calcule a gorjeta a ser paga de uma conta de restaurante. \n",
        "# A gorjeta é calculada como sendo 10% do valor da conta, que deve ser informado \n",
        "# pelo usuário.\n",
        "\n",
        "# Coleta o valor gasto pelo cliente\n",
        "valor_gasto = float (input(\"Quanto deu o conta do restaurante? \"))\n",
        "\n",
        "# Formula de porcentagem aplicada no valor gasto pelo cliente\n",
        "gorjeta = ((10 / 100) * valor_gasto)\n",
        "\n",
        "# Formatando os valores em BRL\n",
        "gorjeta_formatada = f\"{gorjeta:.2f}\".replace(\".\",\",\")\n",
        "valor_gasto_formatado = f\"{valor_gasto:.2f}\".replace(\".\",\",\")\n",
        "\n",
        "# Imprime o que foi gasto e valor da gorjeta paga pelo cliente \n",
        "print(f\"A conta do restaurante deu R$ {valor_gasto_formatado} e você pagou R$ {gorjeta_formatada} de gorjeta.\")"
      ],
      "execution_count": 1,
      "outputs": [
        {
          "output_type": "stream",
          "text": [
            "Quanto deu o conta do restaurante? 47\n",
            "A conta do restaurante deu R$ 47,00 e você pagou R$ 4,70 de gorjeta.\n"
          ],
          "name": "stdout"
        }
      ]
    },
    {
      "cell_type": "code",
      "metadata": {
        "id": "ZDfYcVImyiCV",
        "colab_type": "code",
        "colab": {
          "base_uri": "https://localhost:8080/",
          "height": 68
        },
        "outputId": "a969d997-8bf7-4a35-c941-6c4ceee9d73f"
      },
      "source": [
        "# Crie um algoritmo que calcule o novo valor de um salário a partir de um valor \n",
        "# percentual de reajuste. O valor atual do salário e o valor \n",
        "# percentual do reajuste devem ser informados pelo usuário como, por exemplo, 7,3%.\n",
        "\n",
        "# Salário atual do Alberto na empresa Everyone ltda\n",
        "salario = float (input(\"Alberto, quanto é o seu salário na empresa Everyone? \"))\n",
        "\n",
        "# Porcentagem de almento salarial \n",
        "reajuste = float (input(\"Alberto, quanto de almento salarial, em porcentagem, você recebeu? \"))\n",
        "\n",
        "# Calculo da porcentagem tendo como base os valores informado por Alberto \n",
        "porcentagem = float ((reajuste / 100) * salario)\n",
        "\n",
        "# Calculo do salario final depois do almento\n",
        "salario_final = float (salario + porcentagem)\n",
        "\n",
        "# Imprime as mudanças que ocorreu no salário do Alberto\n",
        "print(f\"Você teve um reajuste de {reajuste}% no salário R$ {salario:.2f} que repesenta R$ {porcentagem:.2f} seu salário final é de R$ {salario_final:.2f}\") "
      ],
      "execution_count": 15,
      "outputs": [
        {
          "output_type": "stream",
          "text": [
            "Quanto é o seu salário na empresa Everyone? 1200\n",
            "Quanto de almento salarial, em porcentagem, você recebeu? 16\n",
            "Você teve um reajuste de 16.0% no salário R$ 1200.0 que repesenta R$ 192.00 seu salário final é de R$ 1392.0\n"
          ],
          "name": "stdout"
        }
      ]
    },
    {
      "cell_type": "code",
      "metadata": {
        "id": "V2QHD3PI7E-3",
        "colab_type": "code",
        "colab": {
          "base_uri": "https://localhost:8080/",
          "height": 51
        },
        "outputId": "924ae8e9-1080-4614-8d2f-3bd2ba8c2957"
      },
      "source": [
        "# Crie um algoritmo que calcule a área de um quadrado, sendo que o comprimento do \n",
        "# lado é informado pelo usuário. A área do quadrado é calculada elevando-se o \n",
        "# lado ao quadrado.\n",
        "\n",
        "# Coleta a medida do quadrado\n",
        "medidas = float (input(\"Por favor, informe, em metros, qual é a medida do seu quadrado: \"))\n",
        "\n",
        "# Calcula a medida da area do quadrado\n",
        "area = (medidas ** 2)\n",
        "\n",
        "# Imprime a área do quadrado \n",
        "print(f\"A área do seu quadrado é: {area}m\")"
      ],
      "execution_count": 26,
      "outputs": [
        {
          "output_type": "stream",
          "text": [
            "Por favor, informe, em metros, qual é a medida do seu quadrado: 6.5\n",
            "A área do seu quadrado é: 42.25m\n"
          ],
          "name": "stdout"
        }
      ]
    },
    {
      "cell_type": "code",
      "metadata": {
        "id": "aCYD1fK27Jdl",
        "colab_type": "code",
        "colab": {}
      },
      "source": [
        "# Crie um algoritmo que calcule a área de um retângulo, sendo que os comprimentos \n",
        "# da altura e da base são informados pelo usuário. A área do retângulo é calculada \n",
        "# multiplicando-se a altura pela base."
      ],
      "execution_count": null,
      "outputs": []
    },
    {
      "cell_type": "code",
      "metadata": {
        "id": "bwV4rhj47QDs",
        "colab_type": "code",
        "colab": {}
      },
      "source": [
        "# Crie um algoritmo que calcule a área de um círculo, sendo que o comprimento do \n",
        "# raio é informado pelo usuário. A área do círculo é calculada multiplicando-se \n",
        "# pi e o raio ao quadrado."
      ],
      "execution_count": null,
      "outputs": []
    },
    {
      "cell_type": "code",
      "metadata": {
        "id": "ZG3F_7Yb7T0s",
        "colab_type": "code",
        "colab": {}
      },
      "source": [
        "# Crie um algoritmo que calcule a área de uma esfera, sendo que o comprimento do \n",
        "# raio é informado pelo usuário. A área da esfera é calculada multiplicando-se \n",
        "# 4 vezes pi e o raio ao quadrado."
      ],
      "execution_count": null,
      "outputs": []
    },
    {
      "cell_type": "code",
      "metadata": {
        "id": "CqFa4GsX7XJc",
        "colab_type": "code",
        "colab": {}
      },
      "source": [
        "# Crie um algoritmo que calcule o volume de uma caixa d’água cilíndrica, sendo que \n",
        "# os comprimentos do raio e a altura são informados pelo usuário. O volume é calculado \n",
        "# multiplicando-se pi, o raio ao quadrado e a altura."
      ],
      "execution_count": null,
      "outputs": []
    }
  ]
}